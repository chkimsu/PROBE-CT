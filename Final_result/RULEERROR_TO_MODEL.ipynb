{
 "cells": [
  {
   "cell_type": "code",
   "execution_count": 1,
   "metadata": {},
   "outputs": [
    {
     "name": "stderr",
     "output_type": "stream",
     "text": [
      "Using TensorFlow backend.\n"
     ]
    }
   ],
   "source": [
    "import pandas as pd\n",
    "import os\n",
    "import gensim\n",
    "import numpy as np\n",
    "import time\n",
    "import pickle\n",
    "import warnings\n",
    "import matplotlib.pyplot as plt\n",
    "from imblearn.over_sampling import RandomOverSampler\n",
    "from gensim.models.fasttext import FastText as FT_gensim\n",
    "from datetime import datetime\n",
    "from keras.models import Sequential\n",
    "from keras.layers import Dense, BatchNormalization, Dropout, Conv1D, GlobalMaxPool1D, SimpleRNN\n",
    "from keras import backend as K\n",
    "from keras.wrappers.scikit_learn import KerasClassifier\n",
    "from keras.callbacks import EarlyStopping, ModelCheckpoint\n",
    "from keras.utils import np_utils\n",
    "from sklearn.model_selection import cross_val_score\n",
    "from sklearn.model_selection import KFold\n",
    "from sklearn.preprocessing import LabelEncoder\n",
    "from sklearn.preprocessing import OneHotEncoder\n",
    "from sklearn.preprocessing import MinMaxScaler\n",
    "from sklearn.pipeline import Pipeline\n",
    "from sklearn.ensemble import RandomForestClassifier\n",
    "from sklearn.datasets import make_classification\n",
    "from sklearn.metrics import accuracy_score\n",
    "from sklearn.ensemble import RandomForestClassifier\n",
    "from sklearn.ensemble import IsolationForest\n",
    "from sklearn.metrics import recall_score\n",
    "from sklearn.metrics import precision_score\n",
    "from sklearn.metrics import f1_score"
   ]
  },
  {
   "cell_type": "markdown",
   "metadata": {},
   "source": [
    "---\n",
    "#### 권 대리님 모델 필요 \n",
    "#### h5로 해서 나중에 수정해야함\n",
    "---"
   ]
  },
  {
   "cell_type": "code",
   "execution_count": 2,
   "metadata": {},
   "outputs": [],
   "source": [
    "from keras.models import model_from_json\n",
    "\n",
    "# Reconfigure model in json file\n",
    "with open(\"http_appid_model_20191215\", \"r\") as fp:\n",
    "      model = model_from_json(fp.read())\n",
    "\n",
    "# Load weights to new model\n",
    "model.load_weights(\"http_appid_weights_20191215.h5\")"
   ]
  },
  {
   "cell_type": "markdown",
   "metadata": {},
   "source": [
    "---\n",
    "#### 권 대리님이 모델 만들때 쓰신 train 데이터 필요\n",
    "---"
   ]
  },
  {
   "cell_type": "code",
   "execution_count": 3,
   "metadata": {},
   "outputs": [],
   "source": [
    "http = pd.read_csv('http_classifier_train_20191212.csv')"
   ]
  },
  {
   "cell_type": "markdown",
   "metadata": {},
   "source": [
    "---\n",
    "#### 내가 ruleerror로 판단한 xdr 필요\n",
    "---"
   ]
  },
  {
   "cell_type": "code",
   "execution_count": 4,
   "metadata": {},
   "outputs": [],
   "source": [
    "test = pd.read_csv('modelinputhttp.csv')"
   ]
  },
  {
   "cell_type": "markdown",
   "metadata": {},
   "source": [
    "---\n",
    "#### 권 대리님이 label encoding한 객체 필요\n",
    "----"
   ]
  },
  {
   "cell_type": "code",
   "execution_count": 9,
   "metadata": {},
   "outputs": [],
   "source": [
    "import pickle\n",
    "\n",
    "with open('http_id_encoder_20191216.p', 'rb') as f:\n",
    "    encoding = pickle.load(f)"
   ]
  },
  {
   "cell_type": "markdown",
   "metadata": {},
   "source": [
    "---\n",
    "#### 권 대리님 모델에 넣기\n",
    "----"
   ]
  },
  {
   "cell_type": "code",
   "execution_count": 5,
   "metadata": {},
   "outputs": [
    {
     "name": "stderr",
     "output_type": "stream",
     "text": [
      "/data01/CSB/CSB_Jupyter/PROBE/DEMO/DNS_Encoding/data_nodns_del.py:47: SettingWithCopyWarning: \n",
      "A value is trying to be set on a copy of a slice from a DataFrame\n",
      "\n",
      "See the caveats in the documentation: http://pandas.pydata.org/pandas-docs/stable/user_guide/indexing.html#returning-a-view-versus-a-copy\n",
      "  data['request_host'][i] = data['dns_querey_name'][i]\n"
     ]
    }
   ],
   "source": [
    "from DNS_Encoding.data_nodns_del import data_nodns_del\n",
    "from DNS_Encoding.make_fasttext_model_vector2 import make_fasttext_model_vector2\n",
    "from DNS_Encoding.making_training_bydns import making_training_bydns\n",
    "http_1 = data_nodns_del(http)\n",
    "http_vector, http_modelinit, max_length_http = make_fasttext_model_vector2(http_1)"
   ]
  },
  {
   "cell_type": "code",
   "execution_count": 6,
   "metadata": {},
   "outputs": [
    {
     "name": "stdout",
     "output_type": "stream",
     "text": [
      "extra columns: {'age__10살이하'}\n",
      "extra columns: {'gender__0'}\n"
     ]
    }
   ],
   "source": [
    "from modelling.make_test_modelinput_65536_delH import make_test_modelinput_65536_delH\n",
    "\n",
    "modelinput = pd.DataFrame(make_test_modelinput_65536_delH(http, test, http_modelinit, max_length_http)[0])"
   ]
  },
  {
   "cell_type": "code",
   "execution_count": 7,
   "metadata": {},
   "outputs": [],
   "source": [
    "y_prob = model.predict(modelinput) \n",
    "y_classes = y_prob.argmax(axis=-1)"
   ]
  },
  {
   "cell_type": "code",
   "execution_count": 11,
   "metadata": {},
   "outputs": [],
   "source": [
    "result = pd.DataFrame(columns = list(encoding.classes_), data= y_prob).transpose()"
   ]
  },
  {
   "cell_type": "code",
   "execution_count": 12,
   "metadata": {},
   "outputs": [],
   "source": [
    "result.columns = [str(i) for i in range(len(result.columns))]"
   ]
  },
  {
   "cell_type": "code",
   "execution_count": 13,
   "metadata": {},
   "outputs": [],
   "source": [
    "a = pd.DataFrame(columns = ['app_id', 'Prob'])\n",
    "for i in range(len(result.columns)):\n",
    "    a = pd.concat([a, pd.DataFrame({'app_id':result.iloc[:, i].sort_values(ascending = False)[:10].index, 'Prob':result.iloc[:, i].sort_values(ascending = False)[:10].values})])"
   ]
  },
  {
   "cell_type": "code",
   "execution_count": 14,
   "metadata": {},
   "outputs": [],
   "source": [
    "a = a.reset_index(drop = True)"
   ]
  },
  {
   "cell_type": "code",
   "execution_count": 15,
   "metadata": {},
   "outputs": [],
   "source": [
    "b = test[['summary_create_time', 'imsi']]"
   ]
  },
  {
   "cell_type": "code",
   "execution_count": 16,
   "metadata": {},
   "outputs": [
    {
     "data": {
      "text/html": [
       "<div>\n",
       "<style scoped>\n",
       "    .dataframe tbody tr th:only-of-type {\n",
       "        vertical-align: middle;\n",
       "    }\n",
       "\n",
       "    .dataframe tbody tr th {\n",
       "        vertical-align: top;\n",
       "    }\n",
       "\n",
       "    .dataframe thead th {\n",
       "        text-align: right;\n",
       "    }\n",
       "</style>\n",
       "<table border=\"1\" class=\"dataframe\">\n",
       "  <thead>\n",
       "    <tr style=\"text-align: right;\">\n",
       "      <th></th>\n",
       "      <th>summary_create_time</th>\n",
       "      <th>imsi</th>\n",
       "    </tr>\n",
       "  </thead>\n",
       "  <tbody>\n",
       "    <tr>\n",
       "      <td>0</td>\n",
       "      <td>1.57288e+09</td>\n",
       "      <td>T08xudGxfRjD7GKUsR1BnfDA==</td>\n",
       "    </tr>\n",
       "    <tr>\n",
       "      <td>1</td>\n",
       "      <td>1.57288e+09</td>\n",
       "      <td>T08xudGxfRjD7GKUsR1BnfDA==</td>\n",
       "    </tr>\n",
       "    <tr>\n",
       "      <td>2</td>\n",
       "      <td>1.57288e+09</td>\n",
       "      <td>T08xudGxfRjD7GKUsR1BnfDA==</td>\n",
       "    </tr>\n",
       "    <tr>\n",
       "      <td>3</td>\n",
       "      <td>1.57288e+09</td>\n",
       "      <td>T08xudGxfRjD7GKUsR1BnfDA==</td>\n",
       "    </tr>\n",
       "    <tr>\n",
       "      <td>4</td>\n",
       "      <td>1.57288e+09</td>\n",
       "      <td>T08xudGxfRjD7GKUsR1BnfDA==</td>\n",
       "    </tr>\n",
       "    <tr>\n",
       "      <td>...</td>\n",
       "      <td>...</td>\n",
       "      <td>...</td>\n",
       "    </tr>\n",
       "    <tr>\n",
       "      <td>92345</td>\n",
       "      <td>1.57296e+09</td>\n",
       "      <td>T0p38wciH4C8/GBV6pQjnXaA==</td>\n",
       "    </tr>\n",
       "    <tr>\n",
       "      <td>92346</td>\n",
       "      <td>1.57296e+09</td>\n",
       "      <td>T0p38wciH4C8/GBV6pQjnXaA==</td>\n",
       "    </tr>\n",
       "    <tr>\n",
       "      <td>92347</td>\n",
       "      <td>1.57296e+09</td>\n",
       "      <td>T0p38wciH4C8/GBV6pQjnXaA==</td>\n",
       "    </tr>\n",
       "    <tr>\n",
       "      <td>92348</td>\n",
       "      <td>1.57296e+09</td>\n",
       "      <td>T0p38wciH4C8/GBV6pQjnXaA==</td>\n",
       "    </tr>\n",
       "    <tr>\n",
       "      <td>92349</td>\n",
       "      <td>1.57296e+09</td>\n",
       "      <td>T0p38wciH4C8/GBV6pQjnXaA==</td>\n",
       "    </tr>\n",
       "  </tbody>\n",
       "</table>\n",
       "<p>92350 rows × 2 columns</p>\n",
       "</div>"
      ],
      "text/plain": [
       "      summary_create_time                        imsi\n",
       "0             1.57288e+09  T08xudGxfRjD7GKUsR1BnfDA==\n",
       "1             1.57288e+09  T08xudGxfRjD7GKUsR1BnfDA==\n",
       "2             1.57288e+09  T08xudGxfRjD7GKUsR1BnfDA==\n",
       "3             1.57288e+09  T08xudGxfRjD7GKUsR1BnfDA==\n",
       "4             1.57288e+09  T08xudGxfRjD7GKUsR1BnfDA==\n",
       "...                   ...                         ...\n",
       "92345         1.57296e+09  T0p38wciH4C8/GBV6pQjnXaA==\n",
       "92346         1.57296e+09  T0p38wciH4C8/GBV6pQjnXaA==\n",
       "92347         1.57296e+09  T0p38wciH4C8/GBV6pQjnXaA==\n",
       "92348         1.57296e+09  T0p38wciH4C8/GBV6pQjnXaA==\n",
       "92349         1.57296e+09  T0p38wciH4C8/GBV6pQjnXaA==\n",
       "\n",
       "[92350 rows x 2 columns]"
      ]
     },
     "execution_count": 16,
     "metadata": {},
     "output_type": "execute_result"
    }
   ],
   "source": [
    "newdf = pd.DataFrame(np.repeat(b.values,10,axis=0))\n",
    "newdf.columns = b.columns"
   ]
  },
  {
   "cell_type": "code",
   "execution_count": 17,
   "metadata": {},
   "outputs": [],
   "source": [
    "newdf['rank'] = [1,2,3,4,5,6,7,8,9,10] * (int(len(newdf)/10))"
   ]
  },
  {
   "cell_type": "code",
   "execution_count": 18,
   "metadata": {},
   "outputs": [],
   "source": [
    "output = pd.merge(newdf,a, left_index= True, right_index=True)"
   ]
  },
  {
   "cell_type": "markdown",
   "metadata": {},
   "source": [
    "---\n",
    "#### 확률값만 top10 뽑는데 유용한 코드\n",
    "---"
   ]
  },
  {
   "cell_type": "code",
   "execution_count": null,
   "metadata": {},
   "outputs": [],
   "source": [
    "A = np.array(model.predict_proba(modelinput))\n",
    "N = 10\n",
    "sorted_row_idx = np.argsort(A, axis=1)[:,A.shape[1]-N::]\n",
    "col_idx = np.arange(A.shape[0])[:,None]\n",
    "out = A[col_idx,sorted_row_idx]\n"
   ]
  }
 ],
 "metadata": {
  "kernelspec": {
   "display_name": "csb2",
   "language": "python",
   "name": "csb2"
  },
  "language_info": {
   "codemirror_mode": {
    "name": "ipython",
    "version": 3
   },
   "file_extension": ".py",
   "mimetype": "text/x-python",
   "name": "python",
   "nbconvert_exporter": "python",
   "pygments_lexer": "ipython3",
   "version": "3.6.7"
  }
 },
 "nbformat": 4,
 "nbformat_minor": 2
}
